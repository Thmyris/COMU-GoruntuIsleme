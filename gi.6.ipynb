{
 "cells": [
  {
   "cell_type": "code",
   "execution_count": 21,
   "metadata": {},
   "outputs": [],
   "source": [
    "import matplotlib.pyplot as plt\n",
    "import numpy as np\n",
    "#import math\n",
    "#from scipy.misc import imsave\n",
    "get_ipython().run_line_magic('matplotlib', 'inline')"
   ]
  },
  {
   "cell_type": "code",
   "execution_count": 22,
   "metadata": {},
   "outputs": [],
   "source": [
    "def my_f_and(l1,l2):\n",
    "    n=len(l1)\n",
    "    s=[]\n",
    "    for i in range(n):\n",
    "        a=l1[i] and l2[i]\n",
    "        s.append(a)\n",
    "    return s\n",
    "#def my_f1_and(l1):\n",
    "#    if 0 in l1:\n",
    "#        s1=0\n",
    "#    else:\n",
    "#        s1=1\n",
    "#    return s1\n",
    "def my_f1_AND_or_OR(l1,operator=0):\n",
    "    if operator :\n",
    "        if 1 in l1:\n",
    "            s1=1\n",
    "        else:\n",
    "            s1=0\n",
    "    else:\n",
    "        if 0 in l1:\n",
    "            s1=0\n",
    "        else:\n",
    "            s1=1       \n",
    "    return s1\n",
    "\n",
    "def my_f2_combine(l1,l2,op=0):\n",
    "    a=my_f_and(l1,l2)\n",
    "    return my_f1_AND_or_OR(a,op)"
   ]
  },
  {
   "cell_type": "code",
   "execution_count": 23,
   "metadata": {},
   "outputs": [
    {
     "data": {
      "text/plain": [
       "1"
      ]
     },
     "execution_count": 23,
     "metadata": {},
     "output_type": "execute_result"
    }
   ],
   "source": [
    "list1=[0,0,1,0,1]   # mask\n",
    "list2=[1,1,1,1,1]   # block\n",
    "im_OR=(list1[0] and list2[0]) or (list1[1] and list2[1]) or (list1[2] and list2[2])\n",
    "im_OR"
   ]
  },
  {
   "cell_type": "code",
   "execution_count": 24,
   "metadata": {},
   "outputs": [
    {
     "data": {
      "text/plain": [
       "[0, 0, 1, 0, 1]"
      ]
     },
     "execution_count": 24,
     "metadata": {},
     "output_type": "execute_result"
    }
   ],
   "source": [
    "a=my_f_and(list1,list2)\n",
    "a"
   ]
  },
  {
   "cell_type": "code",
   "execution_count": 25,
   "metadata": {},
   "outputs": [
    {
     "data": {
      "text/plain": [
       "0"
      ]
     },
     "execution_count": 25,
     "metadata": {},
     "output_type": "execute_result"
    }
   ],
   "source": [
    "my_f2_combine(list1,list2,0)"
   ]
  },
  {
   "cell_type": "code",
   "execution_count": 26,
   "metadata": {},
   "outputs": [],
   "source": [
    "def convert_RGB_to_monochrome_BW(image1,threshold=100):\n",
    "    im_1=image1 #plt.imread(image1)\n",
    "    im_2=np.zeros((im_1.shape[0],im_1.shape[1]))\n",
    "    for i in range(im_2.shape[0]):\n",
    "        for j in range(im_2.shape[1]):\n",
    "            if(im_1[i,j,0]/3+im_1[i,j,1]/3+im_1[i,j,1]/3)>threshold:\n",
    "                im_2[i,j]=0\n",
    "            else:\n",
    "                im_2[i,j]=1\n",
    "    return im_2"
   ]
  },
  {
   "cell_type": "code",
   "execution_count": 12,
   "metadata": {},
   "outputs": [
    {
     "data": {
      "image/png": "[encoded data removed]",
      "text/plain": [
       "<Figure size 432x288 with 1 Axes>"
      ]
     },
     "metadata": {
      "needs_background": "light"
     },
     "output_type": "display_data"
    }
   ],
   "source": [
    "im_1=plt.imread('dilation.png')\n",
    "im_2=convert_RGB_to_monochrome_BW(im_1,0.5)\n",
    "plt.subplot(1,2,1),plt.imshow(im_1,cmap='gray')\n",
    "#plt.imshow(im_1)\n",
    "plt.show()"
   ]
  },
  {
   "cell_type": "code",
   "execution_count": 13,
   "metadata": {},
   "outputs": [
    {
     "data": {
      "image/png": "[encoded data removed]",
      "text/plain": [
       "<Figure size 432x288 with 1 Axes>"
      ]
     },
     "metadata": {
      "needs_background": "light"
     },
     "output_type": "display_data"
    }
   ],
   "source": [
    "plt.subplot(1,2,2),plt.imshow(im_2,cmap='gray')\n",
    "plt.show()"
   ]
  },
  {
   "cell_type": "code",
   "execution_count": 15,
   "metadata": {},
   "outputs": [
    {
     "data": {
      "text/plain": [
       "1.0"
      ]
     },
     "execution_count": 15,
     "metadata": {},
     "output_type": "execute_result"
    }
   ],
   "source": [
    "im_1.shape\n",
    "np.max(im_1)"
   ]
  },
  {
   "cell_type": "code",
   "execution_count": 19,
   "metadata": {},
   "outputs": [],
   "source": [
    "def define_mask_1():\n",
    "    mask_1=[[1,1,1],[1,1,1],[1,1,1]]\n",
    "    #mask,mask[1][2],mask[0][0],mask[2][2]\n",
    "    #for i in range(3):\n",
    "    #    for j in range(3):\n",
    "    #        print(mask[i][j],end=\" \")\n",
    "    #    print()\n",
    "    return mask_1\n",
    "\n",
    "def define_mask_2():\n",
    "    mask_2=[[0,0,0],[0,0,0],[0,0,0]]\n",
    "    #mask,mask[1][2],mask[0][0],mask[2][2]\n",
    "    #for i in range(3):\n",
    "    #    for j in range(3):\n",
    "    #        print(mask[i][j],end=\" \")\n",
    "    #    print()\n",
    "    return mask_2"
   ]
  },
  {
   "cell_type": "code",
   "execution_count": 20,
   "metadata": {},
   "outputs": [],
   "source": [
    "def my_dilation(im_1,mask):\n",
    "    m=im_1.shape[0] #100\n",
    "    n=im_1.shape[1] #100\n",
    "    #im_2=np.random.randint(0,1,(m,n))\n",
    "    im_2=np.zeros((m,n),dtype='uint8')\n",
    "    for i in range(1,m-1): #padding\n",
    "        for j in range(1,n-1):\n",
    "            #x1=im_1[i,j] or mask[1][1]\n",
    "            #\n",
    "            #x2=im_1[i-1,j-1] or mask[0][0]\n",
    "            #x3=im_1[i-1,j] or mask[0][1]\n",
    "            #x4=im_1[i-1,j+1] or mask[0][2]\n",
    "            #\n",
    "            #x5=im_1[i+1,j-1] or mask[2][0]\n",
    "            #x6=im_1[i+1,j] or mask[2][1]\n",
    "            #x7=im_1[i+1,j+1] or mask[2][2]\n",
    "            #\n",
    "            #x8=im_1[i,j-1] or mask[1][0]\n",
    "            #x9=im_1[i,j+1] or mask[1][2]\n",
    "            \n",
    "            x1=im_1[i,j] == mask[1][1]\n",
    "            x2=im_1[i-1,j-1] == mask[0][0]\n",
    "            x3=im_1[i-1,j] == mask[0][1]\n",
    "            x4=im_1[i-1,j+1] == mask[0][2]\n",
    "            x5=im_1[i+1,j-1] == mask[2][0]\n",
    "            x6=im_1[i+1,j] == mask[2][1]\n",
    "            x7=im_1[i+1,j+1] == mask[2][2]\n",
    "            x8=im_1[i,j-1] == mask[1][0]\n",
    "            x9=im_1[i,j+1] == mask[1][2]\n",
    "            \n",
    "            r1=x1 or x2 or x3 or x4 or x5\n",
    "            r2=x6 or x7 or x8 or x9\n",
    "            \n",
    "            r=r1 or r2 \n",
    "            \n",
    "            im_2[i,j]=r\n",
    "    return im_2"
   ]
  },
  {
   "cell_type": "code",
   "execution_count": 18,
   "metadata": {},
   "outputs": [
    {
     "data": {
      "image/png": "[encoded data removed]",
      "text/plain": [
       "<Figure size 720x720 with 3 Axes>"
      ]
     },
     "metadata": {
      "needs_background": "light"
     },
     "output_type": "display_data"
    }
   ],
   "source": [
    "im_3=my_dilation(im_2,define_mask_1())\n",
    "im_4=my_dilation(im_3,define_mask_1())\n",
    "im_5=my_dilation(im_4,define_mask_1())\n",
    "plt.figure(figsize=(10,10))\n",
    "plt.subplot(1,3,1),plt.imshow(im_1)\n",
    "plt.subplot(1,3,2),plt.imshow(im_2,cmap='gray')\n",
    "plt.subplot(1,3,3),plt.imshow(im_5,cmap='gray')\n",
    "plt.show()"
   ]
  },
  {
   "cell_type": "code",
   "execution_count": null,
   "metadata": {},
   "outputs": [],
   "source": []
  }
 ],
 "metadata": {
  "kernelspec": {
   "display_name": "Python 3",
   "language": "python",
   "name": "python3"
  },
  "language_info": {
   "codemirror_mode": {
    "name": "ipython",
    "version": 3
   },
   "file_extension": ".py",
   "mimetype": "text/x-python",
   "name": "python",
   "nbconvert_exporter": "python",
   "pygments_lexer": "ipython3",
   "version": "3.8.2"
  }
 },
 "nbformat": 4,
 "nbformat_minor": 4
}
